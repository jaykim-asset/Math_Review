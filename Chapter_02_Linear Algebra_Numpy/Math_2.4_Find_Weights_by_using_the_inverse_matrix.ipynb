{
 "cells": [
  {
   "cell_type": "markdown",
   "metadata": {},
   "source": [
    "### - Find Weights for the Linear Prediction model by using \"inverse matrix\"\n",
    "- Use boston housing price data\n",
    "- $Ax=\\hat{b}$\n",
    "- Find the $x$ (weights)\n",
    "- After find the $x$, try to interpret that the weights make sense to you."
   ]
  },
  {
   "cell_type": "markdown",
   "metadata": {},
   "source": [
    "[use below information]\n",
    "- from sklearn.datasets imort load_boston\n",
    "- boston = load_boston()\n",
    "- X = boston.data\n",
    "- y = boston.target\n",
    "- A = X[:4, [0, 4, 5, 6]] # 'CRIM', 'NOX', 'RM', 'AGE'\n",
    "- b = y[:4]"
   ]
  },
  {
   "cell_type": "code",
   "execution_count": 4,
   "metadata": {},
   "outputs": [],
   "source": [
    "from sklearn.datasets import load_boston\n",
    "boston = load_boston()\n",
    "X = boston.data\n",
    "y = boston.target\n",
    "A = X[:4, [0, 4, 5, 6]] # 'CRIM', 'NOX', 'RM', 'AGE'\n",
    "b = y[:4]"
   ]
  },
  {
   "cell_type": "code",
   "execution_count": 9,
   "metadata": {},
   "outputs": [
    {
     "data": {
      "text/plain": [
       "(506, 13)"
      ]
     },
     "execution_count": 9,
     "metadata": {},
     "output_type": "execute_result"
    }
   ],
   "source": [
    "# 13 features \n",
    "X.shape"
   ]
  },
  {
   "cell_type": "code",
   "execution_count": 11,
   "metadata": {},
   "outputs": [
    {
     "data": {
      "text/plain": [
       "(506,)"
      ]
     },
     "execution_count": 11,
     "metadata": {},
     "output_type": "execute_result"
    }
   ],
   "source": [
    "y.shape"
   ]
  },
  {
   "cell_type": "code",
   "execution_count": 15,
   "metadata": {},
   "outputs": [
    {
     "data": {
      "text/plain": [
       "0   -312.710043\n",
       "1   -115.193942\n",
       "2     14.499647\n",
       "3     -0.113259\n",
       "dtype: float64"
      ]
     },
     "execution_count": 15,
     "metadata": {},
     "output_type": "execute_result"
    }
   ],
   "source": [
    "# Find weights\n",
    "pd.Series(np.linalg.inv(A) @ b)"
   ]
  },
  {
   "cell_type": "markdown",
   "metadata": {},
   "source": [
    "## Does it make sense to you?\n",
    "- **Summary**\n",
    "- 0 => CRIM rate\n",
    "- 1 => NOX (Air Pollution level)\n",
    "- 2 => RM (Room NUmber)\n",
    "- 3 => AGE (How Old the house)\n",
    "\n",
    "- y is the house price.\n",
    "- 0 => it make sense (If Crime Rate increases, the house price will decrease)\n",
    "- 1 => it make sense (If Air pollution level increases, the price will decrease)\n",
    "- 2 => it make sense (If room number increases, the price will incrase)\n",
    "- 3 => it make sense (If the house old increases, the price will decrase)"
   ]
  }
 ],
 "metadata": {
  "kernelspec": {
   "display_name": "Python 3",
   "language": "python",
   "name": "python3"
  },
  "language_info": {
   "codemirror_mode": {
    "name": "ipython",
    "version": 3
   },
   "file_extension": ".py",
   "mimetype": "text/x-python",
   "name": "python",
   "nbconvert_exporter": "python",
   "pygments_lexer": "ipython3",
   "version": "3.6.4"
  }
 },
 "nbformat": 4,
 "nbformat_minor": 2
}
